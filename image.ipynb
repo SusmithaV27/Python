{
 "cells": [
  {
   "cell_type": "code",
   "execution_count": 2,
   "id": "7e5d5a5a",
   "metadata": {},
   "outputs": [],
   "source": [
    "from matplotlib.image import imread"
   ]
  },
  {
   "cell_type": "code",
   "execution_count": 3,
   "id": "d4f4bd60",
   "metadata": {},
   "outputs": [
    {
     "data": {
      "text/plain": [
       "array([[[ 51,  80,  49],\n",
       "        [ 47,  76,  45],\n",
       "        [ 45,  74,  43],\n",
       "        ...,\n",
       "        [  6,   8,   7],\n",
       "        [  6,   8,   7],\n",
       "        [  6,   8,   7]],\n",
       "\n",
       "       [[ 48,  77,  46],\n",
       "        [ 49,  78,  47],\n",
       "        [ 50,  79,  48],\n",
       "        ...,\n",
       "        [  7,   9,   8],\n",
       "        [  8,  10,   9],\n",
       "        [  9,  11,  10]],\n",
       "\n",
       "       [[ 46,  75,  44],\n",
       "        [ 49,  78,  47],\n",
       "        [ 53,  82,  51],\n",
       "        ...,\n",
       "        [ 10,  12,  11],\n",
       "        [ 11,  13,  12],\n",
       "        [ 12,  14,  13]],\n",
       "\n",
       "       ...,\n",
       "\n",
       "       [[165, 104,  47],\n",
       "        [159,  98,  41],\n",
       "        [152,  91,  34],\n",
       "        ...,\n",
       "        [ 97,  47,  36],\n",
       "        [ 99,  49,  38],\n",
       "        [105,  53,  42]],\n",
       "\n",
       "       [[164, 103,  46],\n",
       "        [159,  98,  41],\n",
       "        [153,  92,  35],\n",
       "        ...,\n",
       "        [ 97,  47,  36],\n",
       "        [102,  50,  39],\n",
       "        [108,  56,  45]],\n",
       "\n",
       "       [[169, 108,  51],\n",
       "        [165, 104,  47],\n",
       "        [159,  98,  41],\n",
       "        ...,\n",
       "        [101,  49,  38],\n",
       "        [100,  48,  37],\n",
       "        [103,  49,  39]]], dtype=uint8)"
      ]
     },
     "execution_count": 3,
     "metadata": {},
     "output_type": "execute_result"
    }
   ],
   "source": [
    "dog = imread(\"C://Users//susmi//Downloads//dog.jpg\")\n",
    "dog"
   ]
  },
  {
   "cell_type": "code",
   "execution_count": 4,
   "id": "8fa1e18a",
   "metadata": {},
   "outputs": [
    {
     "data": {
      "text/plain": [
       "numpy.ndarray"
      ]
     },
     "execution_count": 4,
     "metadata": {},
     "output_type": "execute_result"
    }
   ],
   "source": [
    "type(dog)"
   ]
  },
  {
   "cell_type": "code",
   "execution_count": 5,
   "id": "987d8780",
   "metadata": {},
   "outputs": [
    {
     "data": {
      "text/plain": [
       "(3648, 5472, 3)"
      ]
     },
     "execution_count": 5,
     "metadata": {},
     "output_type": "execute_result"
    }
   ],
   "source": [
    "dog.shape"
   ]
  },
  {
   "cell_type": "code",
   "execution_count": null,
   "id": "4b179447",
   "metadata": {},
   "outputs": [],
   "source": []
  }
 ],
 "metadata": {
  "kernelspec": {
   "display_name": "Python 3 (ipykernel)",
   "language": "python",
   "name": "python3"
  },
  "language_info": {
   "codemirror_mode": {
    "name": "ipython",
    "version": 3
   },
   "file_extension": ".py",
   "mimetype": "text/x-python",
   "name": "python",
   "nbconvert_exporter": "python",
   "pygments_lexer": "ipython3",
   "version": "3.9.13"
  }
 },
 "nbformat": 4,
 "nbformat_minor": 5
}
